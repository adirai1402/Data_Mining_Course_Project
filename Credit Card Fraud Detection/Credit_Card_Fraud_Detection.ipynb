{
 "cells": [
  {
   "cell_type": "code",
   "execution_count": 1,
   "metadata": {},
   "outputs": [],
   "source": [
    "import numpy as np\n",
    "import pandas as pd\n",
    "import matplotlib.pyplot as plt\n",
    "import seaborn as sns #for drawing highly attractive and informative statistical graphics\n",
    "\n",
    "from sklearn.model_selection import train_test_split, cross_validate\n",
    "from sklearn.naive_bayes import GaussianNB\n",
    "from sklearn.metrics import confusion_matrix, classification_report\n",
    "from sklearn.feature_selection import SelectKBest, f_classif, mutual_info_classif"
   ]
  },
  {
   "cell_type": "code",
   "execution_count": null,
   "metadata": {},
   "outputs": [],
   "source": [
    "data= pd.read_csv(r'G:\\ML project skyfi\\creditcardfraud\\creditcard.csv')\n",
    "data.head()"
   ]
  },
  {
   "cell_type": "code",
   "execution_count": null,
   "metadata": {},
   "outputs": [],
   "source": [
    "data.describe().round(decimals=2)"
   ]
  },
  {
   "cell_type": "code",
   "execution_count": null,
   "metadata": {},
   "outputs": [],
   "source": [
    "#printing the no. of columns and their names\n",
    "print('Columns : ', list(data))\n",
    "print('no. of columns : ',len(list(data)))"
   ]
  },
  {
   "cell_type": "code",
   "execution_count": null,
   "metadata": {},
   "outputs": [],
   "source": [
    "#finding the no. of genuine and fraud transaction and showing them in pie chart\n",
    "n_genuine= len(data[data['Class']==0])\n",
    "n_fraud= len(data[data['Class']==1])\n",
    "print('No. of genuine transaction= ',n_genuine)\n",
    "print('No. of fraud transaction= ',n_fraud)\n",
    "\n",
    "plt.pie([n_genuine, n_fraud], labels=['Genuine', 'Fraud'], radius=1.5)\n",
    "plt.show()"
   ]
  },
  {
   "cell_type": "code",
   "execution_count": null,
   "metadata": {},
   "outputs": [],
   "source": [
    "#separating the featursand labels \n",
    "x=data.iloc[:, :-1]  # x denotes the feature columns\n",
    "y=data.iloc[:,-1]   #y denotes the labels\n",
    "x.head()"
   ]
  },
  {
   "cell_type": "code",
   "execution_count": null,
   "metadata": {},
   "outputs": [],
   "source": [
    "y.head()"
   ]
  },
  {
   "cell_type": "code",
   "execution_count": null,
   "metadata": {},
   "outputs": [],
   "source": [
    "#selecting features using SelectKBest\n",
    "\n",
    "k = 10 #no. of best features\n",
    "k_best = SelectKBest(f_classif, k=k) #calculating the scores for each feature using the f_classif score function\n",
    "k_best.fit(x,y) "
   ]
  },
  {
   "cell_type": "code",
   "execution_count": null,
   "metadata": {},
   "outputs": [],
   "source": [
    "#seeing which feature is among the k-best or not \n",
    "mask = k_best.get_support()\n",
    "mask"
   ]
  },
  {
   "cell_type": "code",
   "execution_count": null,
   "metadata": {},
   "outputs": [],
   "source": [
    "not_mask = np.logical_not(mask)\n",
    "not_mask"
   ]
  },
  {
   "cell_type": "code",
   "execution_count": null,
   "metadata": {},
   "outputs": [],
   "source": [
    "#classifying features as best and bad features\n",
    "all_features = np.array(list(x))\n",
    "\n",
    "best_features = all_features[mask]\n",
    "bad_features = all_features[not_mask]\n",
    "\n",
    "print('Best Features : ', best_features)\n",
    "print('Bad Features : ', bad_features)"
   ]
  },
  {
   "cell_type": "code",
   "execution_count": null,
   "metadata": {},
   "outputs": [],
   "source": [
    "#visualizing the best and bad features using seaborn\n",
    "\n",
    "def plot_fraud_genuine(features, data):\n",
    "    plt_index = 0\n",
    "    plt.figure(figsize=(10,10))\n",
    "    plt.subplots_adjust(top = 0.99, bottom= 0.01, hspace=1.5, wspace=0.4)\n",
    "    \n",
    "    for feature in features:\n",
    "        plt_index += 1\n",
    "        feature_data = pd.concat([data[feature], data['Class']], axis=1)\n",
    "        fraud = feature_data[data['Class']==1]\n",
    "        genuine = feature_data[data['Class']==0]\n",
    "        if len(genuine>10000):\n",
    "            genuine = genuine[::100]\n",
    "        plt.subplot(5,5, plt_index)\n",
    "        sns.distplot(fraud[feature])\n",
    "        sns.distplot(genuine[feature])\n",
    "        plt.title(feature)"
   ]
  },
  {
   "cell_type": "code",
   "execution_count": null,
   "metadata": {},
   "outputs": [],
   "source": [
    "plot_fraud_genuine(best_features, data)"
   ]
  },
  {
   "cell_type": "code",
   "execution_count": null,
   "metadata": {},
   "outputs": [],
   "source": [
    "#splitting the data into training and testing dataset\n",
    "x_train, x_test, y_train, y_test = train_test_split(x,y, test_size=0.2)"
   ]
  },
  {
   "cell_type": "code",
   "execution_count": null,
   "metadata": {},
   "outputs": [],
   "source": [
    "#training the model using cross validation because the no. of fraudulant transaction are very less as compared to genuine transactions\n",
    "nb= GaussianNB()\n",
    "cv_results= cross_validate(nb, x_train, y_train, cv=10, scoring='recall', return_train_score=True, return_estimator=True)\n",
    "\n",
    "print('Training scores from each fold: ', cv_results['train_score'])\n",
    "max_score_index = np.argmax(cv_results['train_score'])\n",
    "best_estimator = cv_results['estimator'][max_score_index]"
   ]
  },
  {
   "cell_type": "code",
   "execution_count": null,
   "metadata": {},
   "outputs": [],
   "source": [
    "#function for plotting the confusion matrix \n",
    "def plot_confusion_matrix( cm, classes,\n",
    "                          normalize=False,\n",
    "                          title=None,\n",
    "                          cmap=plt.cm.Blues):\n",
    "   \n",
    "\n",
    "    fig, ax = plt.subplots()\n",
    "    im = ax.imshow(cm, interpolation='nearest', cmap=cmap)\n",
    "    ax.figure.colorbar(im, ax=ax)\n",
    "    # We want to show all ticks...\n",
    "    ax.set(xticks=np.arange(cm.shape[1]),\n",
    "           yticks=np.arange(cm.shape[0]),\n",
    "           # ... and label them with the respective list entries\n",
    "           xticklabels=classes, yticklabels=classes,\n",
    "           title=title,\n",
    "           ylabel='True label',\n",
    "           xlabel='Predicted label')\n",
    "\n",
    "    # Rotate the tick labels and set their alignment.\n",
    "    plt.setp(ax.get_xticklabels(), rotation=45, ha=\"right\",\n",
    "             rotation_mode=\"anchor\")\n",
    "\n",
    "    # Loop over data dimensions and create text annotations.\n",
    "    fmt = '.2f' if normalize else 'd'\n",
    "    thresh = cm.max() / 2.\n",
    "    for i in range(cm.shape[0]):\n",
    "        for j in range(cm.shape[1]):\n",
    "            ax.text(j, i, format(cm[i, j], fmt),\n",
    "                    ha=\"center\", va=\"center\",\n",
    "                    color=\"white\" if cm[i, j] > thresh else \"black\")\n",
    "    fig.tight_layout()\n",
    "    return ax"
   ]
  },
  {
   "cell_type": "code",
   "execution_count": null,
   "metadata": {},
   "outputs": [],
   "source": [
    "#function for displaying the result usinf plot_confusion_matrix function\n",
    "def display_results(estimator, x, y):\n",
    "    predicted = estimator.predict(x)\n",
    "    cm= confusion_matrix(y, predicted)\n",
    "    report= classification_report(y, predicted)\n",
    "    print(report)\n",
    "    plot_confusion_matrix(cm, classes=['Genuine', 'Fraud'], title='Fraud detection')\n",
    "    "
   ]
  },
  {
   "cell_type": "code",
   "execution_count": null,
   "metadata": {},
   "outputs": [],
   "source": [
    "display_results(best_estimator, x_train, y_train)"
   ]
  },
  {
   "cell_type": "code",
   "execution_count": 2,
   "metadata": {},
   "outputs": [
    {
     "ename": "NameError",
     "evalue": "name 'display_results' is not defined",
     "output_type": "error",
     "traceback": [
      "\u001b[1;31m---------------------------------------------------------------------------\u001b[0m",
      "\u001b[1;31mNameError\u001b[0m                                 Traceback (most recent call last)",
      "\u001b[1;32m<ipython-input-2-4b9879de9202>\u001b[0m in \u001b[0;36m<module>\u001b[1;34m\u001b[0m\n\u001b[1;32m----> 1\u001b[1;33m \u001b[0mdisplay_results\u001b[0m\u001b[1;33m(\u001b[0m\u001b[0mbest_estimator\u001b[0m\u001b[1;33m,\u001b[0m \u001b[0mx_test\u001b[0m\u001b[1;33m,\u001b[0m \u001b[0my_test\u001b[0m\u001b[1;33m)\u001b[0m\u001b[1;33m\u001b[0m\u001b[1;33m\u001b[0m\u001b[0m\n\u001b[0m",
      "\u001b[1;31mNameError\u001b[0m: name 'display_results' is not defined"
     ]
    }
   ],
   "source": [
    "display_results(best_estimator, x_test, y_test)"
   ]
  },
  {
   "cell_type": "code",
   "execution_count": null,
   "metadata": {},
   "outputs": [],
   "source": []
  },
  {
   "cell_type": "code",
   "execution_count": null,
   "metadata": {},
   "outputs": [],
   "source": []
  }
 ],
 "metadata": {
  "kernelspec": {
   "display_name": "Python 3",
   "language": "python",
   "name": "python3"
  },
  "language_info": {
   "codemirror_mode": {
    "name": "ipython",
    "version": 3
   },
   "file_extension": ".py",
   "mimetype": "text/x-python",
   "name": "python",
   "nbconvert_exporter": "python",
   "pygments_lexer": "ipython3",
   "version": "3.7.1"
  }
 },
 "nbformat": 4,
 "nbformat_minor": 2
}
